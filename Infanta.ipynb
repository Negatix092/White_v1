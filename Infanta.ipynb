{
 "cells": [
  {
   "cell_type": "code",
   "execution_count": 1,
   "metadata": {},
   "outputs": [
    {
     "name": "stdout",
     "output_type": "stream",
     "text": [
      "Requirement already satisfied: requests in /Users/alexperez/opt/anaconda3/lib/python3.9/site-packages (2.32.3)\n",
      "Requirement already satisfied: beautifulsoup4 in /Users/alexperez/opt/anaconda3/lib/python3.9/site-packages (4.12.3)\n",
      "Collecting fpdf\n",
      "  Downloading fpdf-1.7.2.tar.gz (39 kB)\n",
      "  Preparing metadata (setup.py) ... \u001b[?25ldone\n",
      "\u001b[?25hRequirement already satisfied: charset-normalizer<4,>=2 in /Users/alexperez/opt/anaconda3/lib/python3.9/site-packages (from requests) (3.3.2)\n",
      "Requirement already satisfied: idna<4,>=2.5 in /Users/alexperez/opt/anaconda3/lib/python3.9/site-packages (from requests) (3.7)\n",
      "Requirement already satisfied: urllib3<3,>=1.21.1 in /Users/alexperez/opt/anaconda3/lib/python3.9/site-packages (from requests) (2.2.2)\n",
      "Requirement already satisfied: certifi>=2017.4.17 in /Users/alexperez/opt/anaconda3/lib/python3.9/site-packages (from requests) (2024.7.4)\n",
      "Requirement already satisfied: soupsieve>1.2 in /Users/alexperez/opt/anaconda3/lib/python3.9/site-packages (from beautifulsoup4) (2.5)\n",
      "Building wheels for collected packages: fpdf\n",
      "  Building wheel for fpdf (setup.py) ... \u001b[?25ldone\n",
      "\u001b[?25h  Created wheel for fpdf: filename=fpdf-1.7.2-py2.py3-none-any.whl size=40702 sha256=51ac8f8f8f98f10a4c4b25989a4b9a642b9320869cb11652fcbc5b0a2f87464c\n",
      "  Stored in directory: /Users/alexperez/Library/Caches/pip/wheels/44/35/8b/86ce00cec7e4d13c5f189680ae0fa82f919bedc066c2cddae9\n",
      "Successfully built fpdf\n",
      "Installing collected packages: fpdf\n",
      "Successfully installed fpdf-1.7.2\n",
      "\n",
      "\u001b[1m[\u001b[0m\u001b[34;49mnotice\u001b[0m\u001b[1;39;49m]\u001b[0m\u001b[39;49m A new release of pip is available: \u001b[0m\u001b[31;49m24.2\u001b[0m\u001b[39;49m -> \u001b[0m\u001b[32;49m24.3.1\u001b[0m\n",
      "\u001b[1m[\u001b[0m\u001b[34;49mnotice\u001b[0m\u001b[1;39;49m]\u001b[0m\u001b[39;49m To update, run: \u001b[0m\u001b[32;49mpip install --upgrade pip\u001b[0m\n"
     ]
    }
   ],
   "source": [
    "!pip install requests beautifulsoup4 fpdf"
   ]
  },
  {
   "cell_type": "code",
   "execution_count": 5,
   "metadata": {},
   "outputs": [
    {
     "name": "stdout",
     "output_type": "stream",
     "text": [
      "Collecting fpdf2\n",
      "  Downloading fpdf2-2.8.1-py2.py3-none-any.whl.metadata (63 kB)\n",
      "Requirement already satisfied: defusedxml in /Users/alexperez/opt/anaconda3/lib/python3.9/site-packages (from fpdf2) (0.7.1)\n",
      "Requirement already satisfied: Pillow!=9.2.*,>=6.2.2 in /Users/alexperez/opt/anaconda3/lib/python3.9/site-packages (from fpdf2) (10.4.0)\n",
      "Requirement already satisfied: fonttools>=4.34.0 in /Users/alexperez/opt/anaconda3/lib/python3.9/site-packages (from fpdf2) (4.51.0)\n",
      "Downloading fpdf2-2.8.1-py2.py3-none-any.whl (227 kB)\n",
      "Installing collected packages: fpdf2\n",
      "Successfully installed fpdf2-2.8.1\n",
      "\n",
      "\u001b[1m[\u001b[0m\u001b[34;49mnotice\u001b[0m\u001b[1;39;49m]\u001b[0m\u001b[39;49m A new release of pip is available: \u001b[0m\u001b[31;49m24.2\u001b[0m\u001b[39;49m -> \u001b[0m\u001b[32;49m24.3.1\u001b[0m\n",
      "\u001b[1m[\u001b[0m\u001b[34;49mnotice\u001b[0m\u001b[1;39;49m]\u001b[0m\u001b[39;49m To update, run: \u001b[0m\u001b[32;49mpip install --upgrade pip\u001b[0m\n"
     ]
    }
   ],
   "source": [
    "!pip install fpdf2"
   ]
  },
  {
   "cell_type": "code",
   "execution_count": 25,
   "metadata": {},
   "outputs": [
    {
     "name": "stdout",
     "output_type": "stream",
     "text": [
      "PDF creado y guardado como 'El_cumpleaños_de_la_infanta.pdf'\n"
     ]
    }
   ],
   "source": [
    "import requests\n",
    "from bs4 import BeautifulSoup\n",
    "from fpdf import FPDF\n",
    "import re\n",
    "\n",
    "# Paso 1: Descargar el texto desde la URL\n",
    "url = \"https://ciudadseva.com/texto/el-cumpleanos-de-la-infanta/\"\n",
    "response = requests.get(url)\n",
    "response.encoding = 'utf-8'\n",
    "soup = BeautifulSoup(response.text, 'html.parser')\n",
    "\n",
    "# Extraer todos los elementos <p> de la página\n",
    "paragraphs = soup.find_all('p')\n",
    "\n",
    "# Filtrar solo el contenido del cuento (sin textos adicionales)\n",
    "text = \"\"\n",
    "start_story = False\n",
    "end_story = False\n",
    "for para in paragraphs:\n",
    "    paragraph_text = para.get_text()\n",
    "    if \"Era el día del cumpleaños de la infanta\" in paragraph_text:\n",
    "        start_story = True\n",
    "    if start_story:\n",
    "        if paragraph_text.strip() == \"FIN\":\n",
    "            end_story = True\n",
    "        text += paragraph_text + \"\\n\\n\"\n",
    "        if end_story:\n",
    "            break\n",
    "\n",
    "# Paso 2: Crear el PDF con soporte UTF-8 usando fpdf2\n",
    "pdf = FPDF()\n",
    "pdf.add_page()\n",
    "\n",
    "\n",
    "pdf.add_font('Times', '', 'TimesNewRoman.ttf', uni=True)\n",
    "pdf.add_font('Times-Bold', 'B', 'TimesNewRomanBold.ttf', uni=True)\n",
    "pdf.add_font('Times-Italic', 'I', 'TimesNewRomanItalic.ttf', uni=True)\n",
    "\n",
    "# Carátula\n",
    "pdf.set_font(\"Times-Bold\", \"B\", 20)\n",
    "pdf.cell(0, 10, \"El cumpleaños de la infanta\", ln=True, align=\"C\")\n",
    "pdf.ln(10)\n",
    "pdf.set_font(\"Times\", \"\", 14)\n",
    "pdf.cell(0, 10, \"Oscar Wilde\", ln=True, align=\"C\")\n",
    "pdf.ln(20)\n",
    "\n",
    "# Añadir contenido del cuento\n",
    "#pdf.add_page()\n",
    "pdf.set_font(\"Times\", \"\", 12)\n",
    "\n",
    "# Añadir cada párrafo del cuento al PDF\n",
    "for line in text.split(\"\\n\\n\"):\n",
    "    pdf.multi_cell(0, 5, line)\n",
    "    pdf.ln(5)\n",
    "\n",
    "# Añadir la cita final en inglés, alineada a la derecha y en cursiva\n",
    "pdf.set_font(\"Times-Italic\", \"I\", 12)\n",
    "pdf.cell(0, 10, '“The Birthday of the Infanta”,', ln=True, align=\"R\")\n",
    "pdf.cell(0, 10, 'A House of Pomegranates, 1891', ln=True, align=\"R\")\n",
    "\n",
    "# Añadir imagen .jpg a pagina del pdf \n",
    "pdf.image('Las_Meninas,_by_Diego_Velázquez.jpg', x = 30, y = 50, w = 150, h = 180)\n",
    "\n",
    "# Guardar el PDF\n",
    "pdf_output_path = \"El_cumpleaños_de_la_infanta.pdf\"\n",
    "pdf.output(pdf_output_path)\n",
    "\n",
    "print(f\"PDF creado y guardado como '{pdf_output_path}'\")"
   ]
  },
  {
   "cell_type": "code",
   "execution_count": null,
   "metadata": {},
   "outputs": [],
   "source": []
  }
 ],
 "metadata": {
  "kernelspec": {
   "display_name": "base",
   "language": "python",
   "name": "python3"
  },
  "language_info": {
   "codemirror_mode": {
    "name": "ipython",
    "version": 3
   },
   "file_extension": ".py",
   "mimetype": "text/x-python",
   "name": "python",
   "nbconvert_exporter": "python",
   "pygments_lexer": "ipython3",
   "version": "3.9.19"
  }
 },
 "nbformat": 4,
 "nbformat_minor": 2
}
